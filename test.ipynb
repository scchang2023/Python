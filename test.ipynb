{
 "cells": [
  {
   "cell_type": "code",
   "execution_count": 3,
   "metadata": {},
   "outputs": [
    {
     "name": "stdout",
     "output_type": "stream",
     "text": [
      "[問卦] 颱風在哪?\n",
      "https://www.ptt.cc//bbs/Gossiping/M.1693622324.A.E5B.html\n",
      "\n",
      "[問卦] 靠演算法爆紅的老歌？\n",
      "https://www.ptt.cc//bbs/Gossiping/M.1693622331.A.B70.html\n",
      "\n",
      "[問卦] 颱風天最強儲備糧食是什麼？\n",
      "https://www.ptt.cc//bbs/Gossiping/M.1693622343.A.E8C.html\n",
      "\n",
      "[問卦] 真的有人婚後不愛做愛，寧願DIY？\n",
      "https://www.ptt.cc//bbs/Gossiping/M.1693622348.A.C9C.html\n",
      "\n",
      "[問卦] 北海道火腿隊x初音未來聯名商品\n",
      "https://www.ptt.cc//bbs/Gossiping/M.1693622411.A.914.html\n",
      "\n",
      "[新聞] 台78線2車事故！貨車剎不住追尾「連撞2\n",
      "https://www.ptt.cc//bbs/Gossiping/M.1693622453.A.703.html\n",
      "\n",
      "[問卦] 米其林進來以前沒人質疑南部人的味覺嗎？\n",
      "https://www.ptt.cc//bbs/Gossiping/M.1693622493.A.5EC.html\n",
      "\n",
      "[新聞] 殺警案星二代易寶宏爽服外役監 北監最新\n",
      "https://www.ptt.cc//bbs/Gossiping/M.1693622561.A.DE6.html\n",
      "\n",
      "[問卦] 現在還有人記得防彈背心嗎？\n",
      "https://www.ptt.cc//bbs/Gossiping/M.1693622582.A.5CC.html\n",
      "\n",
      "[公告] 八卦板板規(2023.03.01)\n",
      "https://www.ptt.cc//bbs/Gossiping/M.1677600392.A.D12.html\n",
      "\n",
      "[協尋] 8/11 約晚上九點北市辛亥路一段跟溫州街 \n",
      "https://www.ptt.cc//bbs/Gossiping/M.1691835442.A.ABC.html\n",
      "\n",
      "[協尋] 8/15晚上板橋館前西路錢櫃車禍影片\n",
      "https://www.ptt.cc//bbs/Gossiping/M.1692238560.A.B10.html\n",
      "\n",
      "[協尋] 8/21(一)內湖瑞湖街和舊宗路巷口車禍影片\n",
      "https://www.ptt.cc//bbs/Gossiping/M.1692939356.A.67A.html\n",
      "\n",
      "[協尋] 8/18半夜1點半台中向上路東興路車禍影像\n",
      "https://www.ptt.cc//bbs/Gossiping/M.1692593913.A.AD2.html\n",
      "\n",
      "\n"
     ]
    }
   ],
   "source": [
    "import requests\n",
    "from bs4 import BeautifulSoup\n",
    "url = 'https://www.ptt.cc/'\n",
    "# 加入 Cookies 資訊\n",
    "web = requests.get('https://www.ptt.cc/bbs/Gossiping/index.html', cookies={'over18':'1'})\n",
    "# print(web.text)\n",
    "web.encoding='utf-8'       # 避免中文亂碼\n",
    "soup = BeautifulSoup(web.text, \"html.parser\")\n",
    "titles = soup.find_all('div', class_='title')     # 取得 class 為 title 的 div 內容\n",
    "output = '' # 建立 output 變數\n",
    "#print(titles)\n",
    "for i in titles:\n",
    "    if i.find('a') != None: # 判斷如果不為 None\n",
    "        # print(i.find('a').get_text()) # 取得 div 裡 a 的內容，使用 get_text() 取得文字\n",
    "        # print(url + i.find('a')['href'], end='\\n\\n') # 使用 ['href'] 取得 href 的屬性\n",
    "        # 將資料一次記錄到 output 變數裡\n",
    "        output = output + i.find('a').get_text() + '\\n' + url + i.find('a')['href'] + '\\n\\n'\n",
    "print(output)\n",
    "f = open('./gossip.txt','w') # 建立並開啟純文字文件 ( Colab 才需要 )\n",
    "f.write(output) # 將資料寫入檔案裡\n",
    "f.close()\n",
    "\n",
    "\n"
   ]
  },
  {
   "cell_type": "code",
   "execution_count": 5,
   "metadata": {},
   "outputs": [
    {
     "name": "stdout",
     "output_type": "stream",
     "text": [
      "2023-09-03 00:12:57.929616\n",
      "2023-09-01\n",
      "00:12:57.929616\n",
      "09:00:00\n",
      "当前不处于台湾股票交易时间。\n"
     ]
    }
   ],
   "source": [
    "import datetime\n",
    "\n",
    "# 提供的数据\n",
    "data = {\n",
    "    \"t\": \"13:30:00\",  # 当前时间\n",
    "    \"d\": \"20230901\"  # 交易日期\n",
    "}\n",
    "\n",
    "# 获取当前日期和时间\n",
    "current_datetime = datetime.datetime.now()\n",
    "print(current_datetime)\n",
    "\n",
    "# 解析交易日期\n",
    "trade_date = datetime.datetime.strptime(data[\"d\"], \"%Y%m%d\").date()\n",
    "print(trade_date)\n",
    "print(current_datetime.time())\n",
    "print(datetime.time(9, 0))\n",
    "# 判断是否在交易时间内（上午9点到下午1点）\n",
    "if current_datetime.date() == trade_date and current_datetime.time() >= datetime.time(9, 0) and current_datetime.time() <= datetime.time(13, 0):\n",
    "    print(\"当前处于台湾股票交易时间。\")\n",
    "else:\n",
    "    print(\"当前不处于台湾股票交易时间。\")\n"
   ]
  },
  {
   "cell_type": "code",
   "execution_count": 11,
   "metadata": {},
   "outputs": [
    {
     "name": "stdout",
     "output_type": "stream",
     "text": [
      "no\n"
     ]
    }
   ],
   "source": [
    "if \"08:59:59\" >= \"09:00:00\":\n",
    "    print(\"yes\")\n",
    "else:\n",
    "    print(\"no\")"
   ]
  }
 ],
 "metadata": {
  "kernelspec": {
   "display_name": "Python 3",
   "language": "python",
   "name": "python3"
  },
  "language_info": {
   "codemirror_mode": {
    "name": "ipython",
    "version": 3
   },
   "file_extension": ".py",
   "mimetype": "text/x-python",
   "name": "python",
   "nbconvert_exporter": "python",
   "pygments_lexer": "ipython3",
   "version": "3.11.5"
  },
  "orig_nbformat": 4
 },
 "nbformat": 4,
 "nbformat_minor": 2
}
