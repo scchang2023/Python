{
 "cells": [
  {
   "cell_type": "code",
   "execution_count": 5,
   "metadata": {},
   "outputs": [
    {
     "name": "stdout",
     "output_type": "stream",
     "text": [
      "[問卦] 文班亞馬打得贏歐尼爾嗎？\n",
      "https://www.ptt.cc//bbs/Gossiping/M.1688576568.A.3CA.html\n",
      "\n",
      "[問卦] 如何快速排除負面情緒的八卦?\n",
      "https://www.ptt.cc//bbs/Gossiping/M.1688576595.A.167.html\n",
      "\n",
      "[新聞] 動感巨星香消玉殞　回憶天后李玟短暫48年\n",
      "https://www.ptt.cc//bbs/Gossiping/M.1688576597.A.A45.html\n",
      "\n",
      "[新聞] 48歲李玟離世！詹雅雯曝「2人共通點」\n",
      "https://www.ptt.cc//bbs/Gossiping/M.1688576633.A.756.html\n",
      "\n",
      "[問卦] 為什麼很少聽到低端有憂鬱症？\n",
      "https://www.ptt.cc//bbs/Gossiping/M.1688576668.A.9D7.html\n",
      "\n",
      "[問卦] 如何跟女主管相處的八卦？\n",
      "https://www.ptt.cc//bbs/Gossiping/M.1688576731.A.570.html\n",
      "\n",
      "[問卦] 破壞之王是不是句句都經典\n",
      "https://www.ptt.cc//bbs/Gossiping/M.1688576800.A.5E3.html\n",
      "\n",
      "[問卦] 自助結帳/點餐，是不是在顧客奴化教育?\n",
      "https://www.ptt.cc//bbs/Gossiping/M.1688576816.A.67B.html\n",
      "\n",
      "Re: [問卦] 罹患憂鬱症是不是就沒救了\n",
      "https://www.ptt.cc//bbs/Gossiping/M.1688576909.A.A11.html\n",
      "\n",
      "[公告] 八卦板板規(2023.03.01)\n",
      "https://www.ptt.cc//bbs/Gossiping/M.1677600392.A.D12.html\n",
      "\n",
      "[協尋] 6/28晚 重新路3段 行車記錄器（按推P幣）\n",
      "https://www.ptt.cc//bbs/Gossiping/M.1688299105.A.453.html\n",
      "\n",
      "[協尋] 父親桃園失蹤\n",
      "https://www.ptt.cc//bbs/Gossiping/M.1688553133.A.CEC.html\n",
      "\n",
      "[協尋] 7/5 早 高雄後昌路車禍 行車記錄器\n",
      "https://www.ptt.cc//bbs/Gossiping/M.1688555342.A.C64.html\n",
      "\n",
      "[協尋] 7/3近19:00台北民權林森路口 行車記錄器\n",
      "https://www.ptt.cc//bbs/Gossiping/M.1688560470.A.7CE.html\n",
      "\n",
      "\n"
     ]
    }
   ],
   "source": [
    "import requests\n",
    "from bs4 import BeautifulSoup\n",
    "url = 'https://www.ptt.cc/'\n",
    "# 加入 Cookies 資訊\n",
    "web = requests.get('https://www.ptt.cc/bbs/Gossiping/index.html', cookies={'over18':'1'})\n",
    "# print(web.text)\n",
    "web.encoding='utf-8'       # 避免中文亂碼\n",
    "soup = BeautifulSoup(web.text, \"html.parser\")\n",
    "titles = soup.find_all('div', class_='title')     # 取得 class 為 title 的 div 內容\n",
    "output = '' # 建立 output 變數\n",
    "#print(titles)\n",
    "for i in titles:\n",
    "    if i.find('a') != None: # 判斷如果不為 None\n",
    "        # print(i.find('a').get_text()) # 取得 div 裡 a 的內容，使用 get_text() 取得文字\n",
    "        # print(url + i.find('a')['href'], end='\\n\\n') # 使用 ['href'] 取得 href 的屬性\n",
    "        # 將資料一次記錄到 output 變數裡\n",
    "        output = output + i.find('a').get_text() + '\\n' + url + i.find('a')['href'] + '\\n\\n'\n",
    "print(output)\n",
    "f = open('./gossip.txt','w') # 建立並開啟純文字文件 ( Colab 才需要 )\n",
    "f.write(output) # 將資料寫入檔案裡\n",
    "f.close()\n",
    "\n",
    "\n"
   ]
  }
 ],
 "metadata": {
  "kernelspec": {
   "display_name": "Python 3",
   "language": "python",
   "name": "python3"
  },
  "language_info": {
   "codemirror_mode": {
    "name": "ipython",
    "version": 3
   },
   "file_extension": ".py",
   "mimetype": "text/x-python",
   "name": "python",
   "nbconvert_exporter": "python",
   "pygments_lexer": "ipython3",
   "version": "3.11.4"
  },
  "orig_nbformat": 4
 },
 "nbformat": 4,
 "nbformat_minor": 2
}
