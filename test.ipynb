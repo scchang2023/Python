{
 "cells": [
  {
   "cell_type": "code",
   "execution_count": 3,
   "metadata": {},
   "outputs": [
    {
     "name": "stdout",
     "output_type": "stream",
     "text": [
      "Bob bob@frapples.com\n"
     ]
    }
   ],
   "source": [
    "class Person():\n",
    "    def __init__(self, name):\n",
    "        self.name = name\n",
    "class EmailPerson(Person):\n",
    "    def __init__(self, name, email):\n",
    "        super().__init__(name)\n",
    "        self.email = email\n",
    "# 用 super() 取得父類別 Person 的定義\n",
    "# __init__() 方法呼叫 Person.__init__() 方法，它會將 self 引數傳給超類別\n",
    "bob = EmailPerson('Bob', 'bob@frapples.com')\n",
    "print(bob.name, bob.email)\n"
   ]
  }
 ],
 "metadata": {
  "kernelspec": {
   "display_name": "Python 3",
   "language": "python",
   "name": "python3"
  },
  "language_info": {
   "codemirror_mode": {
    "name": "ipython",
    "version": 3
   },
   "file_extension": ".py",
   "mimetype": "text/x-python",
   "name": "python",
   "nbconvert_exporter": "python",
   "pygments_lexer": "ipython3",
   "version": "3.11.4"
  },
  "orig_nbformat": 4
 },
 "nbformat": 4,
 "nbformat_minor": 2
}
