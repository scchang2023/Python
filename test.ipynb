{
 "cells": [
  {
   "cell_type": "code",
   "execution_count": 13,
   "metadata": {},
   "outputs": [
    {
     "name": "stdout",
     "output_type": "stream",
     "text": [
      "Grumpy\n"
     ]
    }
   ],
   "source": [
    "class Cat:\n",
    "    def __init__(self, name):\n",
    "        self.name = name\n",
    "furball = Cat('Grumpy')\n",
    "# 查看Cat類別的定義\n",
    "# 在記憶體中實體化(建立)一個新物件\n",
    "# 呼叫該物件的 init 方法，將這新建立的物件傳給 self，將另一個引數傳給name\n",
    "# 在物件中儲存 name的值\n",
    "# 回傳新覺件\n",
    "# 將物件指派給變數 furball\n",
    "print(furball.name)"
   ]
  }
 ],
 "metadata": {
  "kernelspec": {
   "display_name": "Python 3",
   "language": "python",
   "name": "python3"
  },
  "language_info": {
   "codemirror_mode": {
    "name": "ipython",
    "version": 3
   },
   "file_extension": ".py",
   "mimetype": "text/x-python",
   "name": "python",
   "nbconvert_exporter": "python",
   "pygments_lexer": "ipython3",
   "version": "3.11.4"
  },
  "orig_nbformat": 4
 },
 "nbformat": 4,
 "nbformat_minor": 2
}
